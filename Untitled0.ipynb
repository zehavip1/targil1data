{
  "nbformat": 4,
  "nbformat_minor": 0,
  "metadata": {
    "colab": {
      "provenance": []
    },
    "kernelspec": {
      "name": "python3",
      "display_name": "Python 3"
    },
    "language_info": {
      "name": "python"
    }
  },
  "cells": [
    {
      "cell_type": "code",
      "source": [
        "import copy"
      ],
      "metadata": {
        "id": "0wv1aZIbY6HB"
      },
      "execution_count": 2,
      "outputs": []
    },
    {
      "cell_type": "code",
      "source": [
        "class Product:\n",
        "    def __init__(self, name, bought_with={}):\n",
        "        # בדיקת שם המוצר - חייב להיות לפחות שני תווים\n",
        "        if len(name) < 2:\n",
        "            raise ValueError(\"Invalid name\")\n",
        "\n",
        "        self.name = name\n",
        "\n",
        "        # אם התקבל ערך מוסיפה אותו ואם לא יוצר מילון ריק\n",
        "        self.bought_with = copy.deepcopy(bought_with) if bought_with is not None else {}\n",
        "\n",
        "\n",
        "    def __repr__ (self):\n",
        "        return self.name\n",
        "\n",
        "    def update(self,product_names):\n",
        "      for name in product_names:\n",
        "        if name in self.bought_with:\n",
        "          self.bought_with[name] +=1\n",
        "        else:\n",
        "          self.bought_with[name] =1\n",
        "\n",
        "    def get_recommendations(self, k):\n",
        "      if k==0:\n",
        "        return []\n",
        "      sorted_products = sorted(self.bought_with.items(), key=lambda item: item[1], reverse=True) #SORTED ממינת לפי קריטריונים מסוימים\n",
        "      recommendations = [product[0] for product in sorted_products[:k]]\n",
        "      return recommendations"
      ],
      "metadata": {
        "id": "LW_E2pbsTFpY"
      },
      "execution_count": 31,
      "outputs": []
    },
    {
      "cell_type": "code",
      "source": [
        "class GoldProduct(Product):\n",
        "   def __init__(self, name, amount, bought_with={}):\n",
        "        super().__init__(name, bought_with)  # קורא לבנאי של Product\n",
        "        self.amount = amount  # מספר הפריטים שנותרו\n",
        "\n",
        "\n",
        "   def __repr__(self):\n",
        "        # משתמש במתודה של האב ומוסיף את מספר היחידות\n",
        "        parent_repr = super().__repr__()  # קריאה למתודה __repr__ של האב\n",
        "        return f\"{parent_repr} ({self.amount} Units left!)\"\n",
        "\n",
        "   def update(self, names_product):\n",
        "        # קורא למתודה update מהאב\n",
        "        super().update(names_product)\n",
        "\n",
        "        # מפחית 1 מהשדה amount\n",
        "        self.amount -= 1\n",
        "\n",
        "   def get_recommendations(self, k):\n",
        "      # שימוש במתודה מהאבא לקבלת המלצות\n",
        "      all_recommendations = super().get_recommendations(k)\n",
        "\n",
        "      # סינון המוצרים שנקנו לפחות 10 פעמים\n",
        "      filtered_recommendations = [name for name in all_recommendations if self.bought_with.get(name, 0) >= 10]\n",
        "\n",
        "      # החזרת המלצות מוגבלות ל-k\n",
        "      return filtered_recommendations[:k]"
      ],
      "metadata": {
        "id": "fvUWvHTFnDZ7"
      },
      "execution_count": 30,
      "outputs": []
    },
    {
      "cell_type": "code",
      "source": [
        "class RecommendationSystem:\n",
        "   def __init__(self, product_tuples):\n",
        "        self.products = {}\n",
        "        for name, amount in product_tuples:#לולאה שעוברת על כל הרשימה\n",
        "            if amount == -1:\n",
        "                # ניצור מוצר רגיל\n",
        "                self.products[name] = Product(name)\n",
        "            else:\n",
        "                # ניצור מוצר זהב\n",
        "                self.products[name] = GoldProduct(name, amount)\n",
        "\n",
        "   def update(self, purchased_names):\n",
        "        # עבור כל מוצר שנקנה, נעדכן את המוצרים הנלווים\n",
        "        for name in purchased_names:\n",
        "            if name in self.products:\n",
        "                # קורא למתודת update של המוצר\n",
        "                self.products[name].update(purchased_names)\n",
        "\n",
        "   def get_recommendations(self, name_product, k):\n",
        "        if name_product in self.products:#אם המוצר קיים במילון\n",
        "            return self.products[name_product].get_recommendations(k)# מפעילה לפי האוביקט\n",
        "        return []\n",
        "\n"
      ],
      "metadata": {
        "id": "1MvTzpWf84Wu"
      },
      "execution_count": 29,
      "outputs": []
    }
  ]
}